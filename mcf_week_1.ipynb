{
  "nbformat": 4,
  "nbformat_minor": 0,
  "metadata": {
    "colab": {
      "provenance": [],
      "include_colab_link": true
    },
    "kernelspec": {
      "display_name": "Python 3",
      "language": "python",
      "name": "python3"
    },
    "language_info": {
      "codemirror_mode": {
        "name": "ipython",
        "version": 3
      },
      "file_extension": ".py",
      "mimetype": "text/x-python",
      "name": "python",
      "nbconvert_exporter": "python",
      "pygments_lexer": "ipython3",
      "version": "3.7.4"
    }
  },
  "cells": [
    {
      "cell_type": "markdown",
      "metadata": {
        "id": "view-in-github",
        "colab_type": "text"
      },
      "source": [
        "<a href=\"https://colab.research.google.com/github/Raketic-Ognjen/LoveCalcProject/blob/master/mcf_week_1.ipynb\" target=\"_parent\"><img src=\"https://colab.research.google.com/assets/colab-badge.svg\" alt=\"Open In Colab\"/></a>"
      ]
    },
    {
      "cell_type": "markdown",
      "metadata": {
        "id": "a-s3OxZP8hb0"
      },
      "source": [
        "<font color='MediumBlue ' style=\"font-size:40px\"><center><b>Problem Set Week 1</b></center></font>"
      ]
    },
    {
      "cell_type": "markdown",
      "metadata": {
        "id": "xJFjxhtv87RW"
      },
      "source": [
        "<font color='MediumBlue ' style=\"font-size:40px\"><center><b>If you want us to check you work, please submit it by Mon, Dec 5th at 9am</b></center></font>"
      ]
    },
    {
      "cell_type": "markdown",
      "metadata": {
        "id": "N_I8VWPH8hb4"
      },
      "source": [
        "<div style=\"border:2px solid Gray;\"><b><i>Instructions</i></b>: Problems are supposed to be worked in the assigned groups. Write the solution in the provided Google Colab notebook. Each Notebook should have the group name and the Week as its name. So, the name of the notebook for the second homework of the group 3 should be\n",
        "\n",
        "**Group_3_Week_2.ipynb**\n",
        "\n",
        "Submit one homework per group only! Post it in the same Google Directory that we have allocated for your group for the homeworks in Bootcamp and where you have found the file with the HW. The group can work on the file in the same google drive directory jointly. \n",
        "\n",
        "Try to solve as many questions as you can and please play around and experiment. This is not a competition and you are not going to be issued a grade for this. If you do not know how to do something or you make mistake, do not worry, just try to figure out later how to do things. \n",
        "\n",
        "If you submit it by the deadline we shall make sure to check and give you feedback. The feedback will be written in the same file that you leave in your Google Drive for the group.\n",
        "\n",
        "You can use any resources available to you, other than collaborating with other groups. In particular, you are encouraged to use the Internet resources (to try to google the hints from thousands of users around the world) and, of course, you should use the lecture notes. \n",
        "\n",
        "If you are an experienced programmer, make sure that less experienced programmers get to do as much as they can and to help them to learn. The same for the economists - help out your noneconomist friends learn related to concepts they may not know once thee need for that arises. Once you are done submit (one file per group). Above all, have fun!</div>"
      ]
    },
    {
      "cell_type": "markdown",
      "metadata": {
        "id": "XOn0x3Ki8hb6"
      },
      "source": [
        "<font color='Red'><center><b> Ognjen Raketic</b></center></font>"
      ]
    },
    {
      "cell_type": "markdown",
      "metadata": {
        "id": "jizDFxMo8hb8"
      },
      "source": [
        "<font color='DarkViolet ' style=\"font-size:25px\"><b>Problem 1 - Design your notebook (Lecture 1)</b></font>"
      ]
    },
    {
      "cell_type": "markdown",
      "metadata": {
        "id": "xYFYDhrk8hb-"
      },
      "source": [
        "Find a text on the Internet. Copy it below this cell in the new text cell. Then try to format it in such a way that it looks as nice as possible. Break it down into paragraphs. Add a title and subtitles to it.  Use different colors and fonts, if you like. Also, try to import a picture and add some formulas in LaTex, just to practice. "
      ]
    },
    {
      "cell_type": "markdown",
      "metadata": {
        "id": "c14ElMissH-f"
      },
      "source": []
    },
    {
      "cell_type": "markdown",
      "metadata": {
        "id": "4yBPPMxCtjgC"
      },
      "source": [
        "<font color='DarkViolet ' style=\"font-size:25px\"><b>Problem 2 - First step in data analysis</b></font>"
      ]
    },
    {
      "cell_type": "markdown",
      "metadata": {
        "id": "_3uhmhrptjgC"
      },
      "source": [
        "In this problem we are going to practice working with lists. "
      ]
    },
    {
      "cell_type": "markdown",
      "metadata": {
        "id": "PFDwQEDitjgC"
      },
      "source": [
        "In the  cell below you can find prices of the Amazon stock for the period Jul 2019-Jul 2020. They are stored in the list **prices**:"
      ]
    },
    {
      "cell_type": "code",
      "metadata": {
        "id": "Vi_-W8WItjgD"
      },
      "source": [
        "prices=[1922.189941, 1934.310059, 1939.0, 1942.910034, 1952.319946, 1988.300049, 2017.410034, 2001.069946, 2011.0, 2020.98999,\n",
        " 2009.900024, 1992.030029, 1977.900024, 1964.52002, 1985.630005, 1994.48999, 2000.810059, 1973.819946, 1943.050049,\n",
        " 1912.449951, 1898.530029, 1866.780029, 1855.319946, 1823.23999, 1765.130005, 1787.829956, 1793.400024, 1832.890015,\n",
        " 1807.579956, 1784.920044, 1824.339966, 1762.959961, 1776.119995, 1792.569946, 1816.119995, 1801.380005, 1823.540039,\n",
        " 1804.660034, 1749.619995, 1768.869995, 1761.829956, 1764.25, 1786.400024, 1776.290039, 1789.839966, 1800.619995,\n",
        " 1840.719971, 1833.51001, 1831.349976, 1820.550049, 1822.98999, 1843.550049, 1839.339966, 1807.839966, 1822.550049,\n",
        " 1817.459961, 1821.5, 1794.160034, 1785.300049, 1741.609985, 1768.329956, 1739.839966, 1725.449951, 1735.910034,\n",
        " 1735.650024, 1713.22998, 1724.420044, 1739.650024, 1732.660034, 1705.51001, 1721.98999, 1720.26001, 1731.920044,\n",
        " 1736.430054, 1767.380005, 1777.430054, 1787.47998, 1757.51001, 1785.660034, 1765.72998, 1762.170044, 1780.780029,\n",
        " 1761.329956, 1777.079956, 1762.709961, 1779.98999, 1776.660034, 1791.439941, 1804.660034, 1801.709961, 1795.77002,\n",
        " 1788.199951, 1785.880005, 1771.650024, 1778.0, 1753.109985, 1754.599976, 1739.48999, 1752.530029, 1752.790039,\n",
        " 1745.530029, 1734.709961, 1745.719971, 1773.839966, 1796.939941, 1818.51001, 1800.800049, 1781.599976, 1769.959961,\n",
        " 1760.689941, 1740.47998, 1751.599976, 1749.51001, 1739.209961, 1748.719971, 1760.329956, 1760.939941, 1769.209961,\n",
        " 1790.660034, 1784.030029, 1792.280029, 1786.5, 1793.0, 1789.209961, 1868.77002, 1869.800049, 1846.890015, 1847.839966,\n",
        " 1898.01001, 1874.969971, 1902.880005, 1906.859985, 1891.969971, 1901.050049, 1883.160034, 1891.300049, 1869.439941,\n",
        " 1862.02002, 1877.939941, 1864.719971, 1892.0, 1887.459961, 1884.579956, 1861.640015, 1828.339966, 1853.25, 1858.0,\n",
        " 1870.680054, 2008.719971, 2004.199951, 2049.669922, 2039.869995, 2050.22998, 2079.280029, 2133.909912, 2150.800049,\n",
        " 2160.0, 2149.870117, 2134.870117, 2155.669922, 2170.219971, 2153.100098, 2095.969971, 2009.290039, 1972.73999,\n",
        " 1979.589966, 1884.300049, 1883.75, 1953.949951, 1908.98999, 1975.829956, 1924.030029, 1901.089966, 1800.609985,\n",
        " 1891.819946, 1820.859985, 1676.609985, 1785.0, 1689.150024, 1807.839966, 1830.0, 1880.930054, 1846.089966, 1902.829956,\n",
        " 1940.099976, 1885.839966, 1955.48999, 1900.099976, 1963.949951, 1949.719971, 1907.699951, 1918.829956, 1906.589966,\n",
        " 1997.589966, 2011.599976, 2043.0, 2042.76001, 2168.870117, 2283.320068, 2307.679932, 2408.189941, 2375.0, 2393.610107,\n",
        " 2328.120117, 2363.48999, 2399.449951, 2410.219971, 2376.0, 2314.080078, 2372.709961, 2474.0, 2286.040039, 2315.98999,\n",
        " 2317.800049, 2351.26001, 2367.610107, 2379.610107, 2409.0, 2356.949951, 2367.919922, 2388.850098, 2409.780029, 2426.26001,\n",
        " 2449.330078, 2497.939941, 2446.73999, 2436.879883, 2421.860107, 2410.389893, 2401.100098, 2442.370117, 2471.040039,\n",
        " 2472.409912, 2478.399902, 2460.600098, 2483.0, 2524.060059, 2600.860107, 2647.449951, 2557.959961, 2545.02002, 2572.679932,\n",
        " 2615.27002, 2640.97998, 2653.97998, 2675.01001, 2713.820068, 2764.409912, 2734.399902, 2754.580078, 2692.870117, 2680.379883]"
      ],
      "execution_count": null,
      "outputs": []
    },
    {
      "cell_type": "markdown",
      "source": [
        "a) Calculate the total number of observations"
      ],
      "metadata": {
        "id": "7qBG-qKxv8K6"
      }
    },
    {
      "cell_type": "code",
      "source": [
        "len(prices)"
      ],
      "metadata": {
        "id": "A-OkNfqSwecj",
        "colab": {
          "base_uri": "https://localhost:8080/"
        },
        "outputId": "2037347e-ccd0-42a9-b23a-208119bbf444"
      },
      "execution_count": null,
      "outputs": [
        {
          "output_type": "execute_result",
          "data": {
            "text/plain": [
              "252"
            ]
          },
          "metadata": {},
          "execution_count": 2
        }
      ]
    },
    {
      "cell_type": "markdown",
      "metadata": {
        "id": "TSM98leJuMOf"
      },
      "source": [
        "b) Based on the answer above and any additional considerations, are we talking about daily, weekly or monthly prices here? Explain please, do not just state the answer. It is a good practice to do that always."
      ]
    },
    {
      "cell_type": "markdown",
      "source": [
        "Answer>We are talking about daily (working day - excluded weekend) prices. 365 days - 110 days(52 saturdays and 52 sundays) + 1 day for christmass + 2 days for New Year"
      ],
      "metadata": {
        "id": "jRCDg90uwz4a"
      }
    },
    {
      "cell_type": "markdown",
      "source": [
        "c) Obtain the list of prices containing the first half of the prices. Call this list `prices_1`. To be sure that you have gotten half of the prices, check the total number of elements of the list `prices_1`. It should be one half of the total number of elements of the `prices`. "
      ],
      "metadata": {
        "id": "rNGOx-LFw1q-"
      }
    },
    {
      "cell_type": "code",
      "metadata": {
        "id": "zPVuLtU0u-Mx",
        "colab": {
          "base_uri": "https://localhost:8080/"
        },
        "outputId": "10f5d3cc-5ee8-40f6-a5ea-207f90e69858"
      },
      "source": [
        "prices_1 = prices[0:126]\n",
        "print(prices_1)\n",
        "len(prices_1)"
      ],
      "execution_count": null,
      "outputs": [
        {
          "output_type": "stream",
          "name": "stdout",
          "text": [
            "[1922.189941, 1934.310059, 1939.0, 1942.910034, 1952.319946, 1988.300049, 2017.410034, 2001.069946, 2011.0, 2020.98999, 2009.900024, 1992.030029, 1977.900024, 1964.52002, 1985.630005, 1994.48999, 2000.810059, 1973.819946, 1943.050049, 1912.449951, 1898.530029, 1866.780029, 1855.319946, 1823.23999, 1765.130005, 1787.829956, 1793.400024, 1832.890015, 1807.579956, 1784.920044, 1824.339966, 1762.959961, 1776.119995, 1792.569946, 1816.119995, 1801.380005, 1823.540039, 1804.660034, 1749.619995, 1768.869995, 1761.829956, 1764.25, 1786.400024, 1776.290039, 1789.839966, 1800.619995, 1840.719971, 1833.51001, 1831.349976, 1820.550049, 1822.98999, 1843.550049, 1839.339966, 1807.839966, 1822.550049, 1817.459961, 1821.5, 1794.160034, 1785.300049, 1741.609985, 1768.329956, 1739.839966, 1725.449951, 1735.910034, 1735.650024, 1713.22998, 1724.420044, 1739.650024, 1732.660034, 1705.51001, 1721.98999, 1720.26001, 1731.920044, 1736.430054, 1767.380005, 1777.430054, 1787.47998, 1757.51001, 1785.660034, 1765.72998, 1762.170044, 1780.780029, 1761.329956, 1777.079956, 1762.709961, 1779.98999, 1776.660034, 1791.439941, 1804.660034, 1801.709961, 1795.77002, 1788.199951, 1785.880005, 1771.650024, 1778.0, 1753.109985, 1754.599976, 1739.48999, 1752.530029, 1752.790039, 1745.530029, 1734.709961, 1745.719971, 1773.839966, 1796.939941, 1818.51001, 1800.800049, 1781.599976, 1769.959961, 1760.689941, 1740.47998, 1751.599976, 1749.51001, 1739.209961, 1748.719971, 1760.329956, 1760.939941, 1769.209961, 1790.660034, 1784.030029, 1792.280029, 1786.5, 1793.0, 1789.209961, 1868.77002, 1869.800049]\n"
          ]
        },
        {
          "output_type": "execute_result",
          "data": {
            "text/plain": [
              "126"
            ]
          },
          "metadata": {},
          "execution_count": 35
        }
      ]
    },
    {
      "cell_type": "markdown",
      "source": [
        "d) Obtain the list of prices containing the second half of the prices. Call this list `prices_2`. Perform the check as above in part c)"
      ],
      "metadata": {
        "id": "Rb0ti05LxEZJ"
      }
    },
    {
      "cell_type": "code",
      "source": [
        "prices_2 = prices[126:252]\n",
        "print(prices_2)\n",
        "len(prices_2)"
      ],
      "metadata": {
        "id": "YvyhgDqFvoJe",
        "colab": {
          "base_uri": "https://localhost:8080/"
        },
        "outputId": "e5ff39c4-297a-4874-ff3a-37d229eaab00"
      },
      "execution_count": null,
      "outputs": [
        {
          "output_type": "stream",
          "name": "stdout",
          "text": [
            "[1846.890015, 1847.839966, 1898.01001, 1874.969971, 1902.880005, 1906.859985, 1891.969971, 1901.050049, 1883.160034, 1891.300049, 1869.439941, 1862.02002, 1877.939941, 1864.719971, 1892.0, 1887.459961, 1884.579956, 1861.640015, 1828.339966, 1853.25, 1858.0, 1870.680054, 2008.719971, 2004.199951, 2049.669922, 2039.869995, 2050.22998, 2079.280029, 2133.909912, 2150.800049, 2160.0, 2149.870117, 2134.870117, 2155.669922, 2170.219971, 2153.100098, 2095.969971, 2009.290039, 1972.73999, 1979.589966, 1884.300049, 1883.75, 1953.949951, 1908.98999, 1975.829956, 1924.030029, 1901.089966, 1800.609985, 1891.819946, 1820.859985, 1676.609985, 1785.0, 1689.150024, 1807.839966, 1830.0, 1880.930054, 1846.089966, 1902.829956, 1940.099976, 1885.839966, 1955.48999, 1900.099976, 1963.949951, 1949.719971, 1907.699951, 1918.829956, 1906.589966, 1997.589966, 2011.599976, 2043.0, 2042.76001, 2168.870117, 2283.320068, 2307.679932, 2408.189941, 2375.0, 2393.610107, 2328.120117, 2363.48999, 2399.449951, 2410.219971, 2376.0, 2314.080078, 2372.709961, 2474.0, 2286.040039, 2315.98999, 2317.800049, 2351.26001, 2367.610107, 2379.610107, 2409.0, 2356.949951, 2367.919922, 2388.850098, 2409.780029, 2426.26001, 2449.330078, 2497.939941, 2446.73999, 2436.879883, 2421.860107, 2410.389893, 2401.100098, 2442.370117, 2471.040039, 2472.409912, 2478.399902, 2460.600098, 2483.0, 2524.060059, 2600.860107, 2647.449951, 2557.959961, 2545.02002, 2572.679932, 2615.27002, 2640.97998, 2653.97998, 2675.01001, 2713.820068, 2764.409912, 2734.399902, 2754.580078, 2692.870117, 2680.379883]\n"
          ]
        },
        {
          "output_type": "execute_result",
          "data": {
            "text/plain": [
              "126"
            ]
          },
          "metadata": {},
          "execution_count": 39
        }
      ]
    },
    {
      "cell_type": "markdown",
      "metadata": {
        "id": "_OMfwZKKsIxJ"
      },
      "source": [
        "<font color='DarkViolet ' style=\"font-size:25px\"><b>Problem 3 - Calculating average share price</b></font>"
      ]
    },
    {
      "cell_type": "markdown",
      "metadata": {
        "id": "YYLl9v4rsIxK"
      },
      "source": [
        "Based on the data and results from **Problem 2**, please try to work out the following:"
      ]
    },
    {
      "cell_type": "markdown",
      "metadata": {
        "id": "DM4ChRFasIxK"
      },
      "source": [
        "Often times in finance we need to deal with average quantities. \n",
        "\n",
        "Our task here is to compare average price for the whole sample and two subsamples (`prices`, `prices_1`, and `prices_2`, respectively). One way to do it is to find the sum of all stock prices in a list and divide it by the number of elements of that list.  "
      ]
    },
    {
      "cell_type": "markdown",
      "source": [
        "Calculate the average stock price for the whole period (list `prices`) and compare it with the average stock prices with the first half of the period and the second half of the period.\n",
        "\n",
        "Can you conclude something from this about the change of the stock price over time?"
      ],
      "metadata": {
        "id": "HoD7isHx0qzv"
      }
    },
    {
      "cell_type": "code",
      "metadata": {
        "id": "fYDSLrGpsIxK",
        "colab": {
          "base_uri": "https://localhost:8080/"
        },
        "outputId": "173624a9-45f2-4329-b128-4db6a4caac0b"
      },
      "source": [
        "prices=[1922.189941, 1934.310059, 1939.0, 1942.910034, 1952.319946, 1988.300049, 2017.410034, 2001.069946, 2011.0, 2020.98999,\n",
        " 2009.900024, 1992.030029, 1977.900024, 1964.52002, 1985.630005, 1994.48999, 2000.810059, 1973.819946, 1943.050049,\n",
        " 1912.449951, 1898.530029, 1866.780029, 1855.319946, 1823.23999, 1765.130005, 1787.829956, 1793.400024, 1832.890015,\n",
        " 1807.579956, 1784.920044, 1824.339966, 1762.959961, 1776.119995, 1792.569946, 1816.119995, 1801.380005, 1823.540039,\n",
        " 1804.660034, 1749.619995, 1768.869995, 1761.829956, 1764.25, 1786.400024, 1776.290039, 1789.839966, 1800.619995,\n",
        " 1840.719971, 1833.51001, 1831.349976, 1820.550049, 1822.98999, 1843.550049, 1839.339966, 1807.839966, 1822.550049,\n",
        " 1817.459961, 1821.5, 1794.160034, 1785.300049, 1741.609985, 1768.329956, 1739.839966, 1725.449951, 1735.910034,\n",
        " 1735.650024, 1713.22998, 1724.420044, 1739.650024, 1732.660034, 1705.51001, 1721.98999, 1720.26001, 1731.920044,\n",
        " 1736.430054, 1767.380005, 1777.430054, 1787.47998, 1757.51001, 1785.660034, 1765.72998, 1762.170044, 1780.780029,\n",
        " 1761.329956, 1777.079956, 1762.709961, 1779.98999, 1776.660034, 1791.439941, 1804.660034, 1801.709961, 1795.77002,\n",
        " 1788.199951, 1785.880005, 1771.650024, 1778.0, 1753.109985, 1754.599976, 1739.48999, 1752.530029, 1752.790039,\n",
        " 1745.530029, 1734.709961, 1745.719971, 1773.839966, 1796.939941, 1818.51001, 1800.800049, 1781.599976, 1769.959961,\n",
        " 1760.689941, 1740.47998, 1751.599976, 1749.51001, 1739.209961, 1748.719971, 1760.329956, 1760.939941, 1769.209961,\n",
        " 1790.660034, 1784.030029, 1792.280029, 1786.5, 1793.0, 1789.209961, 1868.77002, 1869.800049, 1846.890015, 1847.839966,\n",
        " 1898.01001, 1874.969971, 1902.880005, 1906.859985, 1891.969971, 1901.050049, 1883.160034, 1891.300049, 1869.439941,\n",
        " 1862.02002, 1877.939941, 1864.719971, 1892.0, 1887.459961, 1884.579956, 1861.640015, 1828.339966, 1853.25, 1858.0,\n",
        " 1870.680054, 2008.719971, 2004.199951, 2049.669922, 2039.869995, 2050.22998, 2079.280029, 2133.909912, 2150.800049,\n",
        " 2160.0, 2149.870117, 2134.870117, 2155.669922, 2170.219971, 2153.100098, 2095.969971, 2009.290039, 1972.73999,\n",
        " 1979.589966, 1884.300049, 1883.75, 1953.949951, 1908.98999, 1975.829956, 1924.030029, 1901.089966, 1800.609985,\n",
        " 1891.819946, 1820.859985, 1676.609985, 1785.0, 1689.150024, 1807.839966, 1830.0, 1880.930054, 1846.089966, 1902.829956,\n",
        " 1940.099976, 1885.839966, 1955.48999, 1900.099976, 1963.949951, 1949.719971, 1907.699951, 1918.829956, 1906.589966,\n",
        " 1997.589966, 2011.599976, 2043.0, 2042.76001, 2168.870117, 2283.320068, 2307.679932, 2408.189941, 2375.0, 2393.610107,\n",
        " 2328.120117, 2363.48999, 2399.449951, 2410.219971, 2376.0, 2314.080078, 2372.709961, 2474.0, 2286.040039, 2315.98999,\n",
        " 2317.800049, 2351.26001, 2367.610107, 2379.610107, 2409.0, 2356.949951, 2367.919922, 2388.850098, 2409.780029, 2426.26001,\n",
        " 2449.330078, 2497.939941, 2446.73999, 2436.879883, 2421.860107, 2410.389893, 2401.100098, 2442.370117, 2471.040039,\n",
        " 2472.409912, 2478.399902, 2460.600098, 2483.0, 2524.060059, 2600.860107, 2647.449951, 2557.959961, 2545.02002, 2572.679932,\n",
        " 2615.27002, 2640.97998, 2653.97998, 2675.01001, 2713.820068, 2764.409912, 2734.399902, 2754.580078, 2692.870117, 2680.379883]\n",
        "\n",
        "sum = 0\n",
        "for i in range(0,len(prices)):\n",
        "  sum = sum + prices[i]\n",
        "\n",
        "avg = sum/len(prices)\n",
        "\n",
        "print(avg)"
      ],
      "execution_count": null,
      "outputs": [
        {
          "output_type": "stream",
          "name": "stdout",
          "text": [
            "1989.780356246031\n"
          ]
        }
      ]
    },
    {
      "cell_type": "markdown",
      "source": [
        "**The Average Stock price is 1989.780356246031 USD**"
      ],
      "metadata": {
        "id": "zvJ2CAO_sUz2"
      }
    },
    {
      "cell_type": "code",
      "source": [
        "prices=[1922.189941, 1934.310059, 1939.0, 1942.910034, 1952.319946, 1988.300049, 2017.410034, 2001.069946, 2011.0, 2020.98999,\n",
        " 2009.900024, 1992.030029, 1977.900024, 1964.52002, 1985.630005, 1994.48999, 2000.810059, 1973.819946, 1943.050049,\n",
        " 1912.449951, 1898.530029, 1866.780029, 1855.319946, 1823.23999, 1765.130005, 1787.829956, 1793.400024, 1832.890015,\n",
        " 1807.579956, 1784.920044, 1824.339966, 1762.959961, 1776.119995, 1792.569946, 1816.119995, 1801.380005, 1823.540039,\n",
        " 1804.660034, 1749.619995, 1768.869995, 1761.829956, 1764.25, 1786.400024, 1776.290039, 1789.839966, 1800.619995,\n",
        " 1840.719971, 1833.51001, 1831.349976, 1820.550049, 1822.98999, 1843.550049, 1839.339966, 1807.839966, 1822.550049,\n",
        " 1817.459961, 1821.5, 1794.160034, 1785.300049, 1741.609985, 1768.329956, 1739.839966, 1725.449951, 1735.910034,\n",
        " 1735.650024, 1713.22998, 1724.420044, 1739.650024, 1732.660034, 1705.51001, 1721.98999, 1720.26001, 1731.920044,\n",
        " 1736.430054, 1767.380005, 1777.430054, 1787.47998, 1757.51001, 1785.660034, 1765.72998, 1762.170044, 1780.780029,\n",
        " 1761.329956, 1777.079956, 1762.709961, 1779.98999, 1776.660034, 1791.439941, 1804.660034, 1801.709961, 1795.77002,\n",
        " 1788.199951, 1785.880005, 1771.650024, 1778.0, 1753.109985, 1754.599976, 1739.48999, 1752.530029, 1752.790039,\n",
        " 1745.530029, 1734.709961, 1745.719971, 1773.839966, 1796.939941, 1818.51001, 1800.800049, 1781.599976, 1769.959961,\n",
        " 1760.689941, 1740.47998, 1751.599976, 1749.51001, 1739.209961, 1748.719971, 1760.329956, 1760.939941, 1769.209961,\n",
        " 1790.660034, 1784.030029, 1792.280029, 1786.5, 1793.0, 1789.209961, 1868.77002, 1869.800049, 1846.890015, 1847.839966,\n",
        " 1898.01001, 1874.969971, 1902.880005, 1906.859985, 1891.969971, 1901.050049, 1883.160034, 1891.300049, 1869.439941,\n",
        " 1862.02002, 1877.939941, 1864.719971, 1892.0, 1887.459961, 1884.579956, 1861.640015, 1828.339966, 1853.25, 1858.0,\n",
        " 1870.680054, 2008.719971, 2004.199951, 2049.669922, 2039.869995, 2050.22998, 2079.280029, 2133.909912, 2150.800049,\n",
        " 2160.0, 2149.870117, 2134.870117, 2155.669922, 2170.219971, 2153.100098, 2095.969971, 2009.290039, 1972.73999,\n",
        " 1979.589966, 1884.300049, 1883.75, 1953.949951, 1908.98999, 1975.829956, 1924.030029, 1901.089966, 1800.609985,\n",
        " 1891.819946, 1820.859985, 1676.609985, 1785.0, 1689.150024, 1807.839966, 1830.0, 1880.930054, 1846.089966, 1902.829956,\n",
        " 1940.099976, 1885.839966, 1955.48999, 1900.099976, 1963.949951, 1949.719971, 1907.699951, 1918.829956, 1906.589966,\n",
        " 1997.589966, 2011.599976, 2043.0, 2042.76001, 2168.870117, 2283.320068, 2307.679932, 2408.189941, 2375.0, 2393.610107,\n",
        " 2328.120117, 2363.48999, 2399.449951, 2410.219971, 2376.0, 2314.080078, 2372.709961, 2474.0, 2286.040039, 2315.98999,\n",
        " 2317.800049, 2351.26001, 2367.610107, 2379.610107, 2409.0, 2356.949951, 2367.919922, 2388.850098, 2409.780029, 2426.26001,\n",
        " 2449.330078, 2497.939941, 2446.73999, 2436.879883, 2421.860107, 2410.389893, 2401.100098, 2442.370117, 2471.040039,\n",
        " 2472.409912, 2478.399902, 2460.600098, 2483.0, 2524.060059, 2600.860107, 2647.449951, 2557.959961, 2545.02002, 2572.679932,\n",
        " 2615.27002, 2640.97998, 2653.97998, 2675.01001, 2713.820068, 2764.409912, 2734.399902, 2754.580078, 2692.870117, 2680.379883]\n",
        "\n",
        "prices_1 = prices[0:126]\n",
        "\n",
        "\n",
        "\n",
        "sum_1 = 0\n",
        "for i in range(0,len(prices_1)):\n",
        "  sum_1 = sum_1 + prices_1[i]\n",
        "  avg_1 = sum_1/len(prices_1)\n",
        "\n",
        "print(avg_1)\n"
      ],
      "metadata": {
        "colab": {
          "base_uri": "https://localhost:8080/"
        },
        "id": "UAUoXzT9qQda",
        "outputId": "815e2c14-ee0c-47de-e569-8fa765c87db4"
      },
      "execution_count": null,
      "outputs": [
        {
          "output_type": "stream",
          "name": "stdout",
          "text": [
            "1811.8023797460307\n"
          ]
        }
      ]
    },
    {
      "cell_type": "markdown",
      "source": [
        "**The Average Stock price for the first half of the year is 1811.8023797460307 USD**"
      ],
      "metadata": {
        "id": "UNP6N_tjss06"
      }
    },
    {
      "cell_type": "code",
      "source": [
        "prices=[1922.189941, 1934.310059, 1939.0, 1942.910034, 1952.319946, 1988.300049, 2017.410034, 2001.069946, 2011.0, 2020.98999,\n",
        " 2009.900024, 1992.030029, 1977.900024, 1964.52002, 1985.630005, 1994.48999, 2000.810059, 1973.819946, 1943.050049,\n",
        " 1912.449951, 1898.530029, 1866.780029, 1855.319946, 1823.23999, 1765.130005, 1787.829956, 1793.400024, 1832.890015,\n",
        " 1807.579956, 1784.920044, 1824.339966, 1762.959961, 1776.119995, 1792.569946, 1816.119995, 1801.380005, 1823.540039,\n",
        " 1804.660034, 1749.619995, 1768.869995, 1761.829956, 1764.25, 1786.400024, 1776.290039, 1789.839966, 1800.619995,\n",
        " 1840.719971, 1833.51001, 1831.349976, 1820.550049, 1822.98999, 1843.550049, 1839.339966, 1807.839966, 1822.550049,\n",
        " 1817.459961, 1821.5, 1794.160034, 1785.300049, 1741.609985, 1768.329956, 1739.839966, 1725.449951, 1735.910034,\n",
        " 1735.650024, 1713.22998, 1724.420044, 1739.650024, 1732.660034, 1705.51001, 1721.98999, 1720.26001, 1731.920044,\n",
        " 1736.430054, 1767.380005, 1777.430054, 1787.47998, 1757.51001, 1785.660034, 1765.72998, 1762.170044, 1780.780029,\n",
        " 1761.329956, 1777.079956, 1762.709961, 1779.98999, 1776.660034, 1791.439941, 1804.660034, 1801.709961, 1795.77002,\n",
        " 1788.199951, 1785.880005, 1771.650024, 1778.0, 1753.109985, 1754.599976, 1739.48999, 1752.530029, 1752.790039,\n",
        " 1745.530029, 1734.709961, 1745.719971, 1773.839966, 1796.939941, 1818.51001, 1800.800049, 1781.599976, 1769.959961,\n",
        " 1760.689941, 1740.47998, 1751.599976, 1749.51001, 1739.209961, 1748.719971, 1760.329956, 1760.939941, 1769.209961,\n",
        " 1790.660034, 1784.030029, 1792.280029, 1786.5, 1793.0, 1789.209961, 1868.77002, 1869.800049, 1846.890015, 1847.839966,\n",
        " 1898.01001, 1874.969971, 1902.880005, 1906.859985, 1891.969971, 1901.050049, 1883.160034, 1891.300049, 1869.439941,\n",
        " 1862.02002, 1877.939941, 1864.719971, 1892.0, 1887.459961, 1884.579956, 1861.640015, 1828.339966, 1853.25, 1858.0,\n",
        " 1870.680054, 2008.719971, 2004.199951, 2049.669922, 2039.869995, 2050.22998, 2079.280029, 2133.909912, 2150.800049,\n",
        " 2160.0, 2149.870117, 2134.870117, 2155.669922, 2170.219971, 2153.100098, 2095.969971, 2009.290039, 1972.73999,\n",
        " 1979.589966, 1884.300049, 1883.75, 1953.949951, 1908.98999, 1975.829956, 1924.030029, 1901.089966, 1800.609985,\n",
        " 1891.819946, 1820.859985, 1676.609985, 1785.0, 1689.150024, 1807.839966, 1830.0, 1880.930054, 1846.089966, 1902.829956,\n",
        " 1940.099976, 1885.839966, 1955.48999, 1900.099976, 1963.949951, 1949.719971, 1907.699951, 1918.829956, 1906.589966,\n",
        " 1997.589966, 2011.599976, 2043.0, 2042.76001, 2168.870117, 2283.320068, 2307.679932, 2408.189941, 2375.0, 2393.610107,\n",
        " 2328.120117, 2363.48999, 2399.449951, 2410.219971, 2376.0, 2314.080078, 2372.709961, 2474.0, 2286.040039, 2315.98999,\n",
        " 2317.800049, 2351.26001, 2367.610107, 2379.610107, 2409.0, 2356.949951, 2367.919922, 2388.850098, 2409.780029, 2426.26001,\n",
        " 2449.330078, 2497.939941, 2446.73999, 2436.879883, 2421.860107, 2410.389893, 2401.100098, 2442.370117, 2471.040039,\n",
        " 2472.409912, 2478.399902, 2460.600098, 2483.0, 2524.060059, 2600.860107, 2647.449951, 2557.959961, 2545.02002, 2572.679932,\n",
        " 2615.27002, 2640.97998, 2653.97998, 2675.01001, 2713.820068, 2764.409912, 2734.399902, 2754.580078, 2692.870117, 2680.379883]\n",
        "\n",
        "prices_2 = prices[126:252]\n",
        "\n",
        "sum_2 = 0\n",
        "\n",
        "for i in range(0,len(prices_2)):\n",
        "  sum_2 = sum_2 + prices_2[i]\n",
        "  avg_2 = sum_2 / len(prices_2)\n",
        "\n",
        "print(avg_2)"
      ],
      "metadata": {
        "colab": {
          "base_uri": "https://localhost:8080/"
        },
        "id": "gekmKydds2xq",
        "outputId": "d3d47646-acef-48ed-906b-2be75097ff7b"
      },
      "execution_count": null,
      "outputs": [
        {
          "output_type": "stream",
          "name": "stdout",
          "text": [
            "2167.7583327460316\n"
          ]
        }
      ]
    },
    {
      "cell_type": "markdown",
      "source": [
        "**We can conclude that in the first part of the year Average Stock Price drop down for 9.82 percent from the Average Stock Price for the Whole Year. The Average Stock price for the Second Part of the Year show that stocks rise up for 8.94 percent in compare with yearly average price**"
      ],
      "metadata": {
        "id": "SOdAHK22u4O3"
      }
    },
    {
      "cell_type": "markdown",
      "source": [
        "**The Average Stock Prices in the Second part of the year is 2167.7583327460316 USD**"
      ],
      "metadata": {
        "id": "FiDGb95rur3g"
      }
    },
    {
      "cell_type": "markdown",
      "source": [
        "<font color='DarkViolet ' style=\"font-size:25px\"><b>Problem 4 - Analyze a text from Investopedia</b></font>"
      ],
      "metadata": {
        "id": "uaerNo4b2PcE"
      }
    },
    {
      "cell_type": "markdown",
      "source": [
        "Find a text or part of the text without figures etc at\n",
        " [Investopedia](https://www.investopedia.com/). Copy that text into the code line below between the quotation markets (it will be probably huge, but do not worry). Variable `text` is a string. Thus, you can use string methods to dissect it and analyze it. Of course, you need to execute it first.\n"
      ],
      "metadata": {
        "id": "eLt8lqoW27Yh"
      }
    },
    {
      "cell_type": "code",
      "source": [
        "text = \"Understanding the Time Value of Money (TVM)\\nInvestors prefer to receive money today rather than the same amount of money in the future because a sum of money, once invested, grows over time.\"\n",
        "print(text)"
      ],
      "metadata": {
        "id": "CxsOwWvo2Yq7",
        "colab": {
          "base_uri": "https://localhost:8080/"
        },
        "outputId": "548f6627-581c-4676-bb60-fb9ca4dc35c6"
      },
      "execution_count": null,
      "outputs": [
        {
          "output_type": "stream",
          "name": "stdout",
          "text": [
            "Understanding the Time Value of Money (TVM)\n",
            "Investors prefer to receive money today rather than the same amount of money in the future because a sum of money, once invested, grows over time.\n"
          ]
        }
      ]
    },
    {
      "cell_type": "markdown",
      "source": [
        "a) How many characters does the variable `text` have?"
      ],
      "metadata": {
        "id": "FCxRjZxE34tV"
      }
    },
    {
      "cell_type": "code",
      "source": [
        "len(text)"
      ],
      "metadata": {
        "id": "L3899LM54D7Z",
        "colab": {
          "base_uri": "https://localhost:8080/"
        },
        "outputId": "33871fce-bc75-4f3d-95ee-9c8cf39f5dc5"
      },
      "execution_count": null,
      "outputs": [
        {
          "output_type": "execute_result",
          "data": {
            "text/plain": [
              "190"
            ]
          },
          "metadata": {},
          "execution_count": 69
        }
      ]
    },
    {
      "cell_type": "markdown",
      "source": [
        "b) Break `text` into separate words. \n",
        "We have done something like this in class (recall the method **split**). The result is a list of words that we call `text_list`. How many words do we obtain? "
      ],
      "metadata": {
        "id": "153xT5ch4MCK"
      }
    },
    {
      "cell_type": "code",
      "source": [
        "text_list = text.split(\" \")\n",
        "print(len(text_list))"
      ],
      "metadata": {
        "id": "6iFWigx14ees",
        "colab": {
          "base_uri": "https://localhost:8080/"
        },
        "outputId": "9b5936bf-3c87-408b-922a-9e4a62bee904"
      },
      "execution_count": null,
      "outputs": [
        {
          "output_type": "stream",
          "name": "stdout",
          "text": [
            "32\n"
          ]
        }
      ]
    },
    {
      "cell_type": "markdown",
      "source": [
        "c) Let us now try to find how many *different* words we have in the `text_list`. To do it, we can transform the **list** into a **set** and find out how many elements does the set have. "
      ],
      "metadata": {
        "id": "e5tTiKoF4fSG"
      }
    },
    {
      "cell_type": "code",
      "source": [
        "text_set= len(set(text_list))\n",
        "print(text_set)"
      ],
      "metadata": {
        "id": "2XOmlVF-5u6z",
        "colab": {
          "base_uri": "https://localhost:8080/"
        },
        "outputId": "b876bb60-8e96-4b4b-b281-bed9dc8439c1"
      },
      "execution_count": null,
      "outputs": [
        {
          "output_type": "stream",
          "name": "stdout",
          "text": [
            "27\n"
          ]
        }
      ]
    }
  ]
}